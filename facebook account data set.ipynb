{
 "cells": [
  {
   "cell_type": "code",
   "execution_count": 1,
   "metadata": {},
   "outputs": [
    {
     "name": "stderr",
     "output_type": "stream",
     "text": [
      "C:\\ProgramData\\Anaconda3\\lib\\site-packages\\IPython\\core\\interactiveshell.py:3063: DtypeWarning: Columns (9) have mixed types.Specify dtype option on import or set low_memory=False.\n",
      "  interactivity=interactivity, compiler=compiler, result=result)\n"
     ]
    },
    {
     "data": {
      "text/html": [
       "<div>\n",
       "<style scoped>\n",
       "    .dataframe tbody tr th:only-of-type {\n",
       "        vertical-align: middle;\n",
       "    }\n",
       "\n",
       "    .dataframe tbody tr th {\n",
       "        vertical-align: top;\n",
       "    }\n",
       "\n",
       "    .dataframe thead th {\n",
       "        text-align: right;\n",
       "    }\n",
       "</style>\n",
       "<table border=\"1\" class=\"dataframe\">\n",
       "  <thead>\n",
       "    <tr style=\"text-align: right;\">\n",
       "      <th></th>\n",
       "      <th>dataset_id</th>\n",
       "      <th>time</th>\n",
       "      <th>username</th>\n",
       "      <th>checkins</th>\n",
       "      <th>has_added_app</th>\n",
       "      <th>were_here_count</th>\n",
       "      <th>likes</th>\n",
       "      <th>talking_about_count</th>\n",
       "      <th>facebook_id</th>\n",
       "      <th>date_added</th>\n",
       "      <th>date_updated</th>\n",
       "      <th>entity_id</th>\n",
       "      <th>cusip</th>\n",
       "      <th>isin</th>\n",
       "    </tr>\n",
       "  </thead>\n",
       "  <tbody>\n",
       "    <tr>\n",
       "      <th>0</th>\n",
       "      <td>53088</td>\n",
       "      <td>2015-01-01 05:00:00+00</td>\n",
       "      <td>SodaStream</td>\n",
       "      <td>0</td>\n",
       "      <td>f</td>\n",
       "      <td>0</td>\n",
       "      <td>761533</td>\n",
       "      <td>587</td>\n",
       "      <td>54885616308</td>\n",
       "      <td>NaN</td>\n",
       "      <td>2017-02-14 03:35:13.236826+00</td>\n",
       "      <td>NaN</td>\n",
       "      <td>NaN</td>\n",
       "      <td>NaN</td>\n",
       "    </tr>\n",
       "    <tr>\n",
       "      <th>1</th>\n",
       "      <td>52642</td>\n",
       "      <td>2015-01-01 05:00:00+00</td>\n",
       "      <td>ANSYSInc</td>\n",
       "      <td>148</td>\n",
       "      <td>f</td>\n",
       "      <td>0</td>\n",
       "      <td>43442</td>\n",
       "      <td>1305</td>\n",
       "      <td>160242297413411</td>\n",
       "      <td>NaN</td>\n",
       "      <td>2017-02-14 01:55:52.78506+00</td>\n",
       "      <td>NaN</td>\n",
       "      <td>NaN</td>\n",
       "      <td>NaN</td>\n",
       "    </tr>\n",
       "    <tr>\n",
       "      <th>2</th>\n",
       "      <td>53656</td>\n",
       "      <td>2015-01-01 05:00:00+00</td>\n",
       "      <td>MyAquaAmerica</td>\n",
       "      <td>0</td>\n",
       "      <td>f</td>\n",
       "      <td>0</td>\n",
       "      <td>5591</td>\n",
       "      <td>297</td>\n",
       "      <td>591693544195818</td>\n",
       "      <td>NaN</td>\n",
       "      <td>2017-02-14 08:13:51.267343+00</td>\n",
       "      <td>NaN</td>\n",
       "      <td>NaN</td>\n",
       "      <td>NaN</td>\n",
       "    </tr>\n",
       "    <tr>\n",
       "      <th>3</th>\n",
       "      <td>53033</td>\n",
       "      <td>2015-01-01 05:00:00+00</td>\n",
       "      <td>Qualcomm</td>\n",
       "      <td>173</td>\n",
       "      <td>f</td>\n",
       "      <td>0</td>\n",
       "      <td>1232521</td>\n",
       "      <td>2685</td>\n",
       "      <td>108472637291</td>\n",
       "      <td>NaN</td>\n",
       "      <td>2017-02-14 03:24:04.363035+00</td>\n",
       "      <td>NaN</td>\n",
       "      <td>NaN</td>\n",
       "      <td>NaN</td>\n",
       "    </tr>\n",
       "    <tr>\n",
       "      <th>4</th>\n",
       "      <td>52783</td>\n",
       "      <td>2015-01-01 05:00:00+00</td>\n",
       "      <td>eaglepharmaceuticals</td>\n",
       "      <td>0</td>\n",
       "      <td>f</td>\n",
       "      <td>0</td>\n",
       "      <td>18</td>\n",
       "      <td>0</td>\n",
       "      <td>1428265940729350</td>\n",
       "      <td>NaN</td>\n",
       "      <td>2017-02-14 02:22:10.193588+00</td>\n",
       "      <td>NaN</td>\n",
       "      <td>NaN</td>\n",
       "      <td>NaN</td>\n",
       "    </tr>\n",
       "  </tbody>\n",
       "</table>\n",
       "</div>"
      ],
      "text/plain": [
       "   dataset_id                    time              username  checkins  \\\n",
       "0       53088  2015-01-01 05:00:00+00            SodaStream         0   \n",
       "1       52642  2015-01-01 05:00:00+00              ANSYSInc       148   \n",
       "2       53656  2015-01-01 05:00:00+00         MyAquaAmerica         0   \n",
       "3       53033  2015-01-01 05:00:00+00              Qualcomm       173   \n",
       "4       52783  2015-01-01 05:00:00+00  eaglepharmaceuticals         0   \n",
       "\n",
       "  has_added_app  were_here_count    likes  talking_about_count  \\\n",
       "0             f                0   761533                  587   \n",
       "1             f                0    43442                 1305   \n",
       "2             f                0     5591                  297   \n",
       "3             f                0  1232521                 2685   \n",
       "4             f                0       18                    0   \n",
       "\n",
       "        facebook_id date_added                   date_updated  entity_id  \\\n",
       "0       54885616308        NaN  2017-02-14 03:35:13.236826+00        NaN   \n",
       "1   160242297413411        NaN   2017-02-14 01:55:52.78506+00        NaN   \n",
       "2   591693544195818        NaN  2017-02-14 08:13:51.267343+00        NaN   \n",
       "3      108472637291        NaN  2017-02-14 03:24:04.363035+00        NaN   \n",
       "4  1428265940729350        NaN  2017-02-14 02:22:10.193588+00        NaN   \n",
       "\n",
       "   cusip  isin  \n",
       "0    NaN   NaN  \n",
       "1    NaN   NaN  \n",
       "2    NaN   NaN  \n",
       "3    NaN   NaN  \n",
       "4    NaN   NaN  "
      ]
     },
     "execution_count": 1,
     "metadata": {},
     "output_type": "execute_result"
    }
   ],
   "source": [
    "import matplotlib.pyplot as plt\n",
    "import pandas as pd\n",
    "ri = pd.read_csv('temp_datalab_records_social_facebook.csv')\n",
    "ri.head()\n"
   ]
  },
  {
   "cell_type": "code",
   "execution_count": 2,
   "metadata": {},
   "outputs": [
    {
     "data": {
      "text/plain": [
       "dataset_id                   0\n",
       "time                         0\n",
       "username                120929\n",
       "checkins                     0\n",
       "has_added_app                0\n",
       "were_here_count              0\n",
       "likes                        0\n",
       "talking_about_count          0\n",
       "facebook_id                  0\n",
       "date_added             1522285\n",
       "date_updated              1364\n",
       "entity_id              3621391\n",
       "cusip                  3621391\n",
       "isin                   3621391\n",
       "dtype: int64"
      ]
     },
     "execution_count": 2,
     "metadata": {},
     "output_type": "execute_result"
    }
   ],
   "source": [
    "ri.isnull().sum()\n"
   ]
  },
  {
   "cell_type": "code",
   "execution_count": 3,
   "metadata": {},
   "outputs": [
    {
     "data": {
      "text/plain": [
       "(3621391, 14)"
      ]
     },
     "execution_count": 3,
     "metadata": {},
     "output_type": "execute_result"
    }
   ],
   "source": [
    "ri.shape"
   ]
  },
  {
   "cell_type": "code",
   "execution_count": 4,
   "metadata": {},
   "outputs": [
    {
     "data": {
      "text/plain": [
       "dataset_id               int64\n",
       "time                    object\n",
       "username                object\n",
       "checkins                 int64\n",
       "has_added_app           object\n",
       "were_here_count          int64\n",
       "likes                    int64\n",
       "talking_about_count      int64\n",
       "facebook_id              int64\n",
       "date_added              object\n",
       "date_updated            object\n",
       "entity_id              float64\n",
       "cusip                  float64\n",
       "isin                   float64\n",
       "dtype: object"
      ]
     },
     "execution_count": 4,
     "metadata": {},
     "output_type": "execute_result"
    }
   ],
   "source": [
    "ri.dtypes\n"
   ]
  },
  {
   "cell_type": "code",
   "execution_count": 5,
   "metadata": {},
   "outputs": [],
   "source": [
    "pounds = ri['likes']\n",
    "ounces = ri['talking_about_count']"
   ]
  },
  {
   "cell_type": "code",
   "execution_count": 9,
   "metadata": {},
   "outputs": [
    {
     "data": {
      "text/plain": [
       "count    3.621391e+06\n",
       "mean     8.166253e+05\n",
       "std      4.937245e+06\n",
       "min      1.000000e+00\n",
       "25%      2.500000e+03\n",
       "50%      2.047700e+04\n",
       "75%      2.175790e+05\n",
       "max      2.106411e+08\n",
       "Name: likes, dtype: float64"
      ]
     },
     "execution_count": 9,
     "metadata": {},
     "output_type": "execute_result"
    }
   ],
   "source": [
    "pounds.value_counts().sort_index()\n",
    "\n",
    "pounds.describe()\n"
   ]
  },
  {
   "cell_type": "code",
   "execution_count": 7,
   "metadata": {},
   "outputs": [
    {
     "data": {
      "image/png": "[encoded data removed]",
      "text/plain": [
       "<Figure size 432x288 with 1 Axes>"
      ]
     },
     "metadata": {
      "needs_background": "light"
     },
     "output_type": "display_data"
    }
   ],
   "source": [
    "plt.scatter(pounds,ounces)\n",
    "plt.xlabel('Birth weight (lb)')\n",
    "plt.ylabel('Fraction of births')\n",
    "plt.show()"
   ]
  },
  {
   "cell_type": "code",
   "execution_count": null,
   "metadata": {},
   "outputs": [],
   "source": []
  },
  {
   "cell_type": "code",
   "execution_count": null,
   "metadata": {},
   "outputs": [],
   "source": []
  }
 ],
 "metadata": {
  "kernelspec": {
   "display_name": "Python 3",
   "language": "python",
   "name": "python3"
  },
  "language_info": {
   "codemirror_mode": {
    "name": "ipython",
    "version": 3
   },
   "file_extension": ".py",
   "mimetype": "text/x-python",
   "name": "python",
   "nbconvert_exporter": "python",
   "pygments_lexer": "ipython3",
   "version": "3.7.6"
  }
 },
 "nbformat": 4,
 "nbformat_minor": 4
}
